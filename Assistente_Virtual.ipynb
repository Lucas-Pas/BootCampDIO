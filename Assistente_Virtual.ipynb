{
  "nbformat": 4,
  "nbformat_minor": 0,
  "metadata": {
    "colab": {
      "provenance": [],
      "gpuType": "T4",
      "authorship_tag": "ABX9TyNXuUGG8N2rhtLwXOrQJif7",
      "include_colab_link": true
    },
    "kernelspec": {
      "name": "python3",
      "display_name": "Python 3"
    },
    "language_info": {
      "name": "python"
    },
    "accelerator": "GPU"
  },
  "cells": [
    {
      "cell_type": "markdown",
      "metadata": {
        "id": "view-in-github",
        "colab_type": "text"
      },
      "source": [
        "<a href=\"https://colab.research.google.com/github/Lucas-Pas/BootCampDIO/blob/main/Assistente_Virtual.ipynb\" target=\"_parent\"><img src=\"https://colab.research.google.com/assets/colab-badge.svg\" alt=\"Open In Colab\"/></a>"
      ]
    },
    {
      "cell_type": "code",
      "execution_count": null,
      "metadata": {
        "colab": {
          "base_uri": "https://localhost:8080/"
        },
        "id": "Dj0OJm44y_uv",
        "outputId": "eca3a9fb-d354-476f-b0d0-31ad074e249e"
      },
      "outputs": [
        {
          "output_type": "stream",
          "name": "stdout",
          "text": [
            "Collecting gtts\n",
            "  Downloading gTTS-2.5.4-py3-none-any.whl.metadata (4.1 kB)\n",
            "Requirement already satisfied: requests<3,>=2.27 in /usr/local/lib/python3.11/dist-packages (from gtts) (2.32.3)\n",
            "Requirement already satisfied: click<8.2,>=7.1 in /usr/local/lib/python3.11/dist-packages (from gtts) (8.1.8)\n",
            "Requirement already satisfied: charset-normalizer<4,>=2 in /usr/local/lib/python3.11/dist-packages (from requests<3,>=2.27->gtts) (3.4.1)\n",
            "Requirement already satisfied: idna<4,>=2.5 in /usr/local/lib/python3.11/dist-packages (from requests<3,>=2.27->gtts) (3.10)\n",
            "Requirement already satisfied: urllib3<3,>=1.21.1 in /usr/local/lib/python3.11/dist-packages (from requests<3,>=2.27->gtts) (2.3.0)\n",
            "Requirement already satisfied: certifi>=2017.4.17 in /usr/local/lib/python3.11/dist-packages (from requests<3,>=2.27->gtts) (2025.1.31)\n",
            "Downloading gTTS-2.5.4-py3-none-any.whl (29 kB)\n",
            "Installing collected packages: gtts\n",
            "Successfully installed gtts-2.5.4\n"
          ]
        }
      ],
      "source": [
        "!pip install gtts"
      ]
    },
    {
      "cell_type": "markdown",
      "source": [
        "Conversor de texto para audio"
      ],
      "metadata": {
        "id": "vLyvc0p68atY"
      }
    },
    {
      "cell_type": "code",
      "source": [
        "from gtts import gTTS\n",
        "from IPython.display import Audio\n",
        "\n",
        "text = input()\n",
        "\n",
        "language = \"pt\"\n",
        "\n",
        "gtts_object = gTTS(text = text,\n",
        "                  lang = language,\n",
        "                  slow = False)\n",
        "\n",
        "gtts_object.save(\"/content/gtts.wav\")\n",
        "\n",
        "Audio(\"/content/gtts.wav\")"
      ],
      "metadata": {
        "colab": {
          "base_uri": "https://localhost:8080/",
          "height": 93
        },
        "id": "L15bOe637jZP",
        "outputId": "566e6273-75a5-41d5-b9d7-7465eccce90d"
      },
      "execution_count": null,
      "outputs": [
        {
          "name": "stdout",
          "output_type": "stream",
          "text": [
            "ola\n"
          ]
        },
        {
          "output_type": "execute_result",
          "data": {
            "text/plain": [
              "<IPython.lib.display.Audio object>"
            ],
            "text/html": [
              "\n",
              "                <audio  controls=\"controls\" >\n",
              "                    <source src=\"data:audio/x-wav;base64,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\" type=\"audio/x-wav\" />\n",
              "                    Your browser does not support the audio element.\n",
              "                </audio>\n",
              "              "
            ]
          },
          "metadata": {},
          "execution_count": 3
        }
      ]
    },
    {
      "cell_type": "markdown",
      "source": [
        "Conversor de audio para texto"
      ],
      "metadata": {
        "id": "erTiZvVI8789"
      }
    },
    {
      "cell_type": "code",
      "source": [
        "!pip install speechrecognition\n",
        "!apt install libasound2-dev portaudio19-dev libportaudio2 libportaudiocpp0 ffmpeg\n",
        "!pip install pyjokes\n",
        "!pip install pyaudio\n",
        "!pip install wikipedia\n",
        "!pip install winshell\n",
        "!pip install playsound\n",
        "\n"
      ],
      "metadata": {
        "colab": {
          "base_uri": "https://localhost:8080/"
        },
        "id": "o9Ia8bjd9LIi",
        "outputId": "08ab8d51-615f-4df5-9b12-01c29f1e2fba"
      },
      "execution_count": null,
      "outputs": [
        {
          "output_type": "stream",
          "name": "stdout",
          "text": [
            "Collecting speechrecognition\n",
            "  Downloading SpeechRecognition-3.14.1-py3-none-any.whl.metadata (31 kB)\n",
            "Requirement already satisfied: typing-extensions in /usr/local/lib/python3.11/dist-packages (from speechrecognition) (4.12.2)\n",
            "Downloading SpeechRecognition-3.14.1-py3-none-any.whl (32.9 MB)\n",
            "\u001b[2K   \u001b[90m━━━━━━━━━━━━━━━━━━━━━━━━━━━━━━━━━━━━━━━━\u001b[0m \u001b[32m32.9/32.9 MB\u001b[0m \u001b[31m21.7 MB/s\u001b[0m eta \u001b[36m0:00:00\u001b[0m\n",
            "\u001b[?25hInstalling collected packages: speechrecognition\n",
            "Successfully installed speechrecognition-3.14.1\n",
            "Reading package lists... Done\n",
            "Building dependency tree... Done\n",
            "Reading state information... Done\n",
            "libasound2-dev is already the newest version (1.2.6.1-1ubuntu1).\n",
            "ffmpeg is already the newest version (7:4.4.2-0ubuntu0.22.04.1).\n",
            "Suggested packages:\n",
            "  portaudio19-doc\n",
            "The following NEW packages will be installed:\n",
            "  libportaudio2 libportaudiocpp0 portaudio19-dev\n",
            "0 upgraded, 3 newly installed, 0 to remove and 21 not upgraded.\n",
            "Need to get 188 kB of archives.\n",
            "After this operation, 927 kB of additional disk space will be used.\n",
            "Get:1 http://archive.ubuntu.com/ubuntu jammy/universe amd64 libportaudio2 amd64 19.6.0-1.1 [65.3 kB]\n",
            "Get:2 http://archive.ubuntu.com/ubuntu jammy/universe amd64 libportaudiocpp0 amd64 19.6.0-1.1 [16.1 kB]\n",
            "Get:3 http://archive.ubuntu.com/ubuntu jammy/universe amd64 portaudio19-dev amd64 19.6.0-1.1 [106 kB]\n",
            "Fetched 188 kB in 2s (109 kB/s)\n",
            "Selecting previously unselected package libportaudio2:amd64.\n",
            "(Reading database ... 124926 files and directories currently installed.)\n",
            "Preparing to unpack .../libportaudio2_19.6.0-1.1_amd64.deb ...\n",
            "Unpacking libportaudio2:amd64 (19.6.0-1.1) ...\n",
            "Selecting previously unselected package libportaudiocpp0:amd64.\n",
            "Preparing to unpack .../libportaudiocpp0_19.6.0-1.1_amd64.deb ...\n",
            "Unpacking libportaudiocpp0:amd64 (19.6.0-1.1) ...\n",
            "Selecting previously unselected package portaudio19-dev:amd64.\n",
            "Preparing to unpack .../portaudio19-dev_19.6.0-1.1_amd64.deb ...\n",
            "Unpacking portaudio19-dev:amd64 (19.6.0-1.1) ...\n",
            "Setting up libportaudio2:amd64 (19.6.0-1.1) ...\n",
            "Setting up libportaudiocpp0:amd64 (19.6.0-1.1) ...\n",
            "Setting up portaudio19-dev:amd64 (19.6.0-1.1) ...\n",
            "Processing triggers for libc-bin (2.35-0ubuntu3.8) ...\n",
            "/sbin/ldconfig.real: /usr/local/lib/libtcm_debug.so.1 is not a symbolic link\n",
            "\n",
            "/sbin/ldconfig.real: /usr/local/lib/libtbbbind_2_0.so.3 is not a symbolic link\n",
            "\n",
            "/sbin/ldconfig.real: /usr/local/lib/libtbb.so.12 is not a symbolic link\n",
            "\n",
            "/sbin/ldconfig.real: /usr/local/lib/libtbbmalloc_proxy.so.2 is not a symbolic link\n",
            "\n",
            "/sbin/ldconfig.real: /usr/local/lib/libur_adapter_opencl.so.0 is not a symbolic link\n",
            "\n",
            "/sbin/ldconfig.real: /usr/local/lib/libtbbmalloc.so.2 is not a symbolic link\n",
            "\n",
            "/sbin/ldconfig.real: /usr/local/lib/libumf.so.0 is not a symbolic link\n",
            "\n",
            "/sbin/ldconfig.real: /usr/local/lib/libtbbbind_2_5.so.3 is not a symbolic link\n",
            "\n",
            "/sbin/ldconfig.real: /usr/local/lib/libhwloc.so.15 is not a symbolic link\n",
            "\n",
            "/sbin/ldconfig.real: /usr/local/lib/libtbbbind.so.3 is not a symbolic link\n",
            "\n",
            "/sbin/ldconfig.real: /usr/local/lib/libur_loader.so.0 is not a symbolic link\n",
            "\n",
            "/sbin/ldconfig.real: /usr/local/lib/libur_adapter_level_zero.so.0 is not a symbolic link\n",
            "\n",
            "/sbin/ldconfig.real: /usr/local/lib/libtcm.so.1 is not a symbolic link\n",
            "\n",
            "Collecting pyjokes\n",
            "  Downloading pyjokes-0.8.3-py3-none-any.whl.metadata (3.4 kB)\n",
            "Downloading pyjokes-0.8.3-py3-none-any.whl (47 kB)\n",
            "\u001b[2K   \u001b[90m━━━━━━━━━━━━━━━━━━━━━━━━━━━━━━━━━━━━━━━━\u001b[0m \u001b[32m47.6/47.6 kB\u001b[0m \u001b[31m4.6 MB/s\u001b[0m eta \u001b[36m0:00:00\u001b[0m\n",
            "\u001b[?25hInstalling collected packages: pyjokes\n",
            "Successfully installed pyjokes-0.8.3\n",
            "Collecting pyaudio\n",
            "  Downloading PyAudio-0.2.14.tar.gz (47 kB)\n",
            "\u001b[2K     \u001b[90m━━━━━━━━━━━━━━━━━━━━━━━━━━━━━━━━━━━━━━━━\u001b[0m \u001b[32m47.1/47.1 kB\u001b[0m \u001b[31m4.4 MB/s\u001b[0m eta \u001b[36m0:00:00\u001b[0m\n",
            "\u001b[?25h  Installing build dependencies ... \u001b[?25l\u001b[?25hdone\n",
            "  Getting requirements to build wheel ... \u001b[?25l\u001b[?25hdone\n",
            "  Preparing metadata (pyproject.toml) ... \u001b[?25l\u001b[?25hdone\n",
            "Building wheels for collected packages: pyaudio\n",
            "  Building wheel for pyaudio (pyproject.toml) ... \u001b[?25l\u001b[?25hdone\n",
            "  Created wheel for pyaudio: filename=PyAudio-0.2.14-cp311-cp311-linux_x86_64.whl size=67396 sha256=3c6d91a2ac47944d3152cdfb4e935f95f393655badfab9784ec85cf176eb21c1\n",
            "  Stored in directory: /root/.cache/pip/wheels/80/b1/c1/67e4ef443de2665d86031d4760508094eab5de37d5d64d9c27\n",
            "Successfully built pyaudio\n",
            "Installing collected packages: pyaudio\n",
            "Successfully installed pyaudio-0.2.14\n",
            "Collecting wikipedia\n",
            "  Downloading wikipedia-1.4.0.tar.gz (27 kB)\n",
            "  Preparing metadata (setup.py) ... \u001b[?25l\u001b[?25hdone\n",
            "Requirement already satisfied: beautifulsoup4 in /usr/local/lib/python3.11/dist-packages (from wikipedia) (4.13.3)\n",
            "Requirement already satisfied: requests<3.0.0,>=2.0.0 in /usr/local/lib/python3.11/dist-packages (from wikipedia) (2.32.3)\n",
            "Requirement already satisfied: charset-normalizer<4,>=2 in /usr/local/lib/python3.11/dist-packages (from requests<3.0.0,>=2.0.0->wikipedia) (3.4.1)\n",
            "Requirement already satisfied: idna<4,>=2.5 in /usr/local/lib/python3.11/dist-packages (from requests<3.0.0,>=2.0.0->wikipedia) (3.10)\n",
            "Requirement already satisfied: urllib3<3,>=1.21.1 in /usr/local/lib/python3.11/dist-packages (from requests<3.0.0,>=2.0.0->wikipedia) (2.3.0)\n",
            "Requirement already satisfied: certifi>=2017.4.17 in /usr/local/lib/python3.11/dist-packages (from requests<3.0.0,>=2.0.0->wikipedia) (2025.1.31)\n",
            "Requirement already satisfied: soupsieve>1.2 in /usr/local/lib/python3.11/dist-packages (from beautifulsoup4->wikipedia) (2.6)\n",
            "Requirement already satisfied: typing-extensions>=4.0.0 in /usr/local/lib/python3.11/dist-packages (from beautifulsoup4->wikipedia) (4.12.2)\n",
            "Building wheels for collected packages: wikipedia\n",
            "  Building wheel for wikipedia (setup.py) ... \u001b[?25l\u001b[?25hdone\n",
            "  Created wheel for wikipedia: filename=wikipedia-1.4.0-py3-none-any.whl size=11679 sha256=3675bed3034602bf319aa287b35b511441e3fc0dcc30a767217265838e2b4182\n",
            "  Stored in directory: /root/.cache/pip/wheels/8f/ab/cb/45ccc40522d3a1c41e1d2ad53b8f33a62f394011ec38cd71c6\n",
            "Successfully built wikipedia\n",
            "Installing collected packages: wikipedia\n",
            "Successfully installed wikipedia-1.4.0\n",
            "Collecting winshell\n",
            "  Downloading winshell-0.6.zip (10 kB)\n",
            "  Preparing metadata (setup.py) ... \u001b[?25l\u001b[?25hdone\n",
            "Building wheels for collected packages: winshell\n",
            "  Building wheel for winshell (setup.py) ... \u001b[?25l\u001b[?25hdone\n",
            "  Created wheel for winshell: filename=winshell-0.6-py3-none-any.whl size=9401 sha256=5c85bdd158ad501e4e705cacbb63338b6f37a62b5ba232dfd44a17d53ee10c12\n",
            "  Stored in directory: /root/.cache/pip/wheels/d8/c2/0d/40a657f14f52021870b7e53360ac4ffd00039c61035ce581eb\n",
            "Successfully built winshell\n",
            "Installing collected packages: winshell\n",
            "Successfully installed winshell-0.6\n",
            "Collecting playsound\n",
            "  Downloading playsound-1.3.0.tar.gz (7.7 kB)\n",
            "  Preparing metadata (setup.py) ... \u001b[?25l\u001b[?25hdone\n",
            "Building wheels for collected packages: playsound\n",
            "  Building wheel for playsound (setup.py) ... \u001b[?25l\u001b[?25hdone\n",
            "  Created wheel for playsound: filename=playsound-1.3.0-py3-none-any.whl size=7020 sha256=eae18bad0dc95d819565ab91f3cbe5eb1e47ca5f72cbc249691cdaa180e3fb3c\n",
            "  Stored in directory: /root/.cache/pip/wheels/50/98/42/62753a9e1fb97579a0ce2f84f7db4c21c09d03bb2091e6cef4\n",
            "Successfully built playsound\n",
            "Installing collected packages: playsound\n",
            "Successfully installed playsound-1.3.0\n"
          ]
        }
      ]
    },
    {
      "cell_type": "code",
      "source": [
        "import speech_recognition as sr\n",
        "from gtts import gTTS\n",
        "import os\n",
        "from datetime import datetime\n",
        "import playsound\n",
        "import pyjokes\n",
        "import wikipedia\n",
        "import pyaudio\n",
        "import webbrowser\n",
        "from pygame import mixer\n"
      ],
      "metadata": {
        "colab": {
          "base_uri": "https://localhost:8080/"
        },
        "id": "ej7Tz9Gj7nOr",
        "outputId": "5e42d449-a63a-472d-d1bb-76b0a9fa4321"
      },
      "execution_count": null,
      "outputs": [
        {
          "output_type": "stream",
          "name": "stderr",
          "text": [
            "WARNING:playsound:playsound is relying on another python subprocess. Please use `pip install pygobject` if you want playsound to run more efficiently.\n"
          ]
        },
        {
          "output_type": "stream",
          "name": "stdout",
          "text": [
            "pygame 2.6.1 (SDL 2.28.4, Python 3.11.11)\n",
            "Hello from the pygame community. https://www.pygame.org/contribute.html\n"
          ]
        }
      ]
    },
    {
      "cell_type": "code",
      "source": [
        "from io import BytesIO\n",
        "from base64 import b64decode\n",
        "from google.colab import output\n",
        "from IPython.display import Javascript\n",
        "\n",
        "RECORD = \"\"\"\n",
        "const sleep  = time => new Promise(resolve => setTimeout(resolve, time))\n",
        "const b2text = blob => new Promise(resolve => {\n",
        "  const reader = new FileReader()\n",
        "  reader.onloadend = e => resolve(e.srcElement.result)\n",
        "  reader.readAsDataURL(blob)\n",
        "})\n",
        "var record = time => new Promise(async resolve => {\n",
        "  stream = await navigator.mediaDevices.getUserMedia({ audio: true })\n",
        "  recorder = new MediaRecorder(stream)\n",
        "  chunks = []\n",
        "  recorder.ondataavailable = e => chunks.push(e.data)\n",
        "  recorder.start()\n",
        "  await sleep(time)\n",
        "  recorder.onstop = async ()=>{\n",
        "    blob = new Blob(chunks)\n",
        "    text = await b2text(blob)\n",
        "    resolve(text)\n",
        "  }\n",
        "  recorder.stop()\n",
        "})\n",
        "\"\"\"\n",
        "\n",
        "def record(sec=3):\n",
        "  print(\"Speak Now...\")\n",
        "  display(Javascript(RECORD))\n",
        "  sec += 1\n",
        "  s = output.eval_js('record(%d)' % (sec*1000))\n",
        "  print(\"Done Recording !\")\n",
        "  b = b64decode(s.split(',')[1])\n",
        "  return b #byte stream"
      ],
      "metadata": {
        "id": "UTn9CUozKZGv"
      },
      "execution_count": null,
      "outputs": []
    },
    {
      "cell_type": "code",
      "source": [
        "def ouvir_microfone():\n",
        "    microfone = sr.Recognizer()\n",
        "    with sr.Microphone() as source:\n",
        "        microfone.adjust_for_ambient_noise(source)\n",
        "        print(\"Diga alguma coisa: \")\n",
        "        audio = microfone.listen(source)\n",
        "    try:\n",
        "      frase = microfone.recognize_google(audio, language = \"pt-BR\")\n",
        "      print(\"Você disse: \" + frase)\n",
        "    except sr.UnknownValueError:\n",
        "      print(\"Não entendi\")\n",
        "\n",
        "    return frase"
      ],
      "metadata": {
        "id": "zgUoDEXQ_cRN"
      },
      "execution_count": null,
      "outputs": []
    },
    {
      "cell_type": "code",
      "source": [
        "def speak(text):\n",
        "    tts = gTTS(text=text, lang='en')\n",
        "    filename = \"voice.mp3\"\n",
        "    try:\n",
        "        os.remove(filename)\n",
        "    except OSError:\n",
        "        pass\n",
        "    tts.save(filename)\n",
        "    playsound.playsound(filename)"
      ],
      "metadata": {
        "id": "3UIdZt708J7-"
      },
      "execution_count": null,
      "outputs": []
    },
    {
      "cell_type": "code",
      "source": [
        "def resposta(texto):\n",
        "  if texto == 'youtube':\n",
        "    webbrowser.open('https://www.youtube.com/')\n",
        "    print('Abrindo Youtube')\n",
        "    speak('Você deseja procurar por algo expecifico?')\n",
        "    procura = ouvir_microfone()\n",
        "    if procura != '' and procura != 'Sim':\n",
        "      speak('o que você procura?')\n",
        "      nova_procura = ouvir_microfone()\n",
        "      if nova_procura != '':\n",
        "        webbrowser.open('https://www.youtube.com/results?search_query=' + nova_procura)\n",
        "    else:\n",
        "      pass\n",
        "  elif texto == 'google' or texto == 'chorme':\n",
        "    webbrowser.open('https://www.google.com/')\n",
        "    print('Abrindo Google')\n",
        "  elif texto == 'piada':\n",
        "    joke = pyjokes.get_joke()\n",
        "    print(joke)\n",
        "    speak(joke)\n",
        "  elif texto == 'horas':\n",
        "    now = datetime.now()\n",
        "    current_time = now.strftime(\"%H:%M\")\n",
        "    print(current_time)\n",
        "    speak(current_time)\n",
        "  elif texto == 'wikipedia':\n",
        "    print('O que você quer saber?')\n",
        "    speak('O que você quer saber?')\n",
        "  elif texto == 'excel':\n",
        "    os.system(\"start excel\")\n",
        "  elif texto == 'word':\n",
        "    os.system(\"start word\")\n",
        "  elif texto == 'powerpoint':\n",
        "    os.system(\"start powerpoint\")\n",
        "  elif texto == 'paint':\n",
        "    os.system(\"start paint\")\n",
        "  elif texto == 'notepad':\n",
        "    os.system(\"start notepad\")\n",
        "  elif texto == 'chrome':\n",
        "    os.system(\"start chrome\")\n",
        "  elif texto == 'whatsapp':\n",
        "    os.system(\"start whatsapp\")\n",
        "  elif texto == 'discord':\n",
        "    os.system(\"start discord\")\n",
        "  elif texto == 'colab':\n",
        "    webbrowser.open('https://colab.research.google.com/')\n",
        "    print('Abrindo Colab')\n",
        "  elif texto == 'github':\n",
        "    webbrowser.open('https://github.com/')\n",
        "    print('Abrindo Github')\n",
        "  elif texto == 'sair':\n",
        "    print('Saindo do programa')\n",
        "    speak('Saindo do programa')\n",
        "    exit()\n",
        "\n"
      ],
      "metadata": {
        "id": "l2F6dC5vF4XL"
      },
      "execution_count": null,
      "outputs": []
    },
    {
      "cell_type": "code",
      "source": [
        "frase = record()\n",
        "while True:\n",
        "  print('Estou te ouvindo agora')\n",
        "  nova_frase = ouvir_microfone()\n",
        "  resposta(nova_frase)"
      ],
      "metadata": {
        "colab": {
          "base_uri": "https://localhost:8080/",
          "height": 512
        },
        "id": "xqnL3RrrIJC4",
        "outputId": "33b9437e-1faf-410e-f5df-2a5264e702e2"
      },
      "execution_count": null,
      "outputs": [
        {
          "output_type": "stream",
          "name": "stdout",
          "text": [
            "Speak Now...\n"
          ]
        },
        {
          "output_type": "display_data",
          "data": {
            "text/plain": [
              "<IPython.core.display.Javascript object>"
            ],
            "application/javascript": [
              "\n",
              "const sleep  = time => new Promise(resolve => setTimeout(resolve, time))\n",
              "const b2text = blob => new Promise(resolve => {\n",
              "  const reader = new FileReader()\n",
              "  reader.onloadend = e => resolve(e.srcElement.result)\n",
              "  reader.readAsDataURL(blob)\n",
              "})\n",
              "var record = time => new Promise(async resolve => {\n",
              "  stream = await navigator.mediaDevices.getUserMedia({ audio: true })\n",
              "  recorder = new MediaRecorder(stream)\n",
              "  chunks = []\n",
              "  recorder.ondataavailable = e => chunks.push(e.data)\n",
              "  recorder.start()\n",
              "  await sleep(time)\n",
              "  recorder.onstop = async ()=>{\n",
              "    blob = new Blob(chunks)\n",
              "    text = await b2text(blob)\n",
              "    resolve(text)\n",
              "  }\n",
              "  recorder.stop()\n",
              "})\n"
            ]
          },
          "metadata": {}
        },
        {
          "output_type": "stream",
          "name": "stdout",
          "text": [
            "Done Recording !\n",
            "Estou te ouvindo agora\n",
            "Speak Now...\n"
          ]
        },
        {
          "output_type": "display_data",
          "data": {
            "text/plain": [
              "<IPython.core.display.Javascript object>"
            ],
            "application/javascript": [
              "\n",
              "const sleep  = time => new Promise(resolve => setTimeout(resolve, time))\n",
              "const b2text = blob => new Promise(resolve => {\n",
              "  const reader = new FileReader()\n",
              "  reader.onloadend = e => resolve(e.srcElement.result)\n",
              "  reader.readAsDataURL(blob)\n",
              "})\n",
              "var record = time => new Promise(async resolve => {\n",
              "  stream = await navigator.mediaDevices.getUserMedia({ audio: true })\n",
              "  recorder = new MediaRecorder(stream)\n",
              "  chunks = []\n",
              "  recorder.ondataavailable = e => chunks.push(e.data)\n",
              "  recorder.start()\n",
              "  await sleep(time)\n",
              "  recorder.onstop = async ()=>{\n",
              "    blob = new Blob(chunks)\n",
              "    text = await b2text(blob)\n",
              "    resolve(text)\n",
              "  }\n",
              "  recorder.stop()\n",
              "})\n"
            ]
          },
          "metadata": {}
        },
        {
          "output_type": "stream",
          "name": "stdout",
          "text": [
            "Done Recording !\n",
            "Estou te ouvindo agora\n",
            "Speak Now...\n"
          ]
        },
        {
          "output_type": "display_data",
          "data": {
            "text/plain": [
              "<IPython.core.display.Javascript object>"
            ],
            "application/javascript": [
              "\n",
              "const sleep  = time => new Promise(resolve => setTimeout(resolve, time))\n",
              "const b2text = blob => new Promise(resolve => {\n",
              "  const reader = new FileReader()\n",
              "  reader.onloadend = e => resolve(e.srcElement.result)\n",
              "  reader.readAsDataURL(blob)\n",
              "})\n",
              "var record = time => new Promise(async resolve => {\n",
              "  stream = await navigator.mediaDevices.getUserMedia({ audio: true })\n",
              "  recorder = new MediaRecorder(stream)\n",
              "  chunks = []\n",
              "  recorder.ondataavailable = e => chunks.push(e.data)\n",
              "  recorder.start()\n",
              "  await sleep(time)\n",
              "  recorder.onstop = async ()=>{\n",
              "    blob = new Blob(chunks)\n",
              "    text = await b2text(blob)\n",
              "    resolve(text)\n",
              "  }\n",
              "  recorder.stop()\n",
              "})\n"
            ]
          },
          "metadata": {}
        },
        {
          "output_type": "stream",
          "name": "stdout",
          "text": [
            "Done Recording !\n",
            "Estou te ouvindo agora\n",
            "Speak Now...\n"
          ]
        },
        {
          "output_type": "display_data",
          "data": {
            "text/plain": [
              "<IPython.core.display.Javascript object>"
            ],
            "application/javascript": [
              "\n",
              "const sleep  = time => new Promise(resolve => setTimeout(resolve, time))\n",
              "const b2text = blob => new Promise(resolve => {\n",
              "  const reader = new FileReader()\n",
              "  reader.onloadend = e => resolve(e.srcElement.result)\n",
              "  reader.readAsDataURL(blob)\n",
              "})\n",
              "var record = time => new Promise(async resolve => {\n",
              "  stream = await navigator.mediaDevices.getUserMedia({ audio: true })\n",
              "  recorder = new MediaRecorder(stream)\n",
              "  chunks = []\n",
              "  recorder.ondataavailable = e => chunks.push(e.data)\n",
              "  recorder.start()\n",
              "  await sleep(time)\n",
              "  recorder.onstop = async ()=>{\n",
              "    blob = new Blob(chunks)\n",
              "    text = await b2text(blob)\n",
              "    resolve(text)\n",
              "  }\n",
              "  recorder.stop()\n",
              "})\n"
            ]
          },
          "metadata": {}
        },
        {
          "output_type": "error",
          "ename": "KeyboardInterrupt",
          "evalue": "",
          "traceback": [
            "\u001b[0;31m---------------------------------------------------------------------------\u001b[0m",
            "\u001b[0;31mKeyboardInterrupt\u001b[0m                         Traceback (most recent call last)",
            "\u001b[0;32m<ipython-input-19-634415b782bb>\u001b[0m in \u001b[0;36m<cell line: 0>\u001b[0;34m()\u001b[0m\n\u001b[1;32m      2\u001b[0m \u001b[0;32mwhile\u001b[0m \u001b[0;32mTrue\u001b[0m\u001b[0;34m:\u001b[0m\u001b[0;34m\u001b[0m\u001b[0;34m\u001b[0m\u001b[0m\n\u001b[1;32m      3\u001b[0m   \u001b[0mprint\u001b[0m\u001b[0;34m(\u001b[0m\u001b[0;34m'Estou te ouvindo agora'\u001b[0m\u001b[0;34m)\u001b[0m\u001b[0;34m\u001b[0m\u001b[0;34m\u001b[0m\u001b[0m\n\u001b[0;32m----> 4\u001b[0;31m   \u001b[0mnova_frase\u001b[0m \u001b[0;34m=\u001b[0m \u001b[0mrecord\u001b[0m\u001b[0;34m(\u001b[0m\u001b[0;34m)\u001b[0m\u001b[0;34m\u001b[0m\u001b[0;34m\u001b[0m\u001b[0m\n\u001b[0m\u001b[1;32m      5\u001b[0m   \u001b[0mresposta\u001b[0m\u001b[0;34m(\u001b[0m\u001b[0mnova_frase\u001b[0m\u001b[0;34m)\u001b[0m\u001b[0;34m\u001b[0m\u001b[0;34m\u001b[0m\u001b[0m\n",
            "\u001b[0;32m<ipython-input-15-82c2c2167aeb>\u001b[0m in \u001b[0;36mrecord\u001b[0;34m(sec)\u001b[0m\n\u001b[1;32m     31\u001b[0m   \u001b[0mdisplay\u001b[0m\u001b[0;34m(\u001b[0m\u001b[0mJavascript\u001b[0m\u001b[0;34m(\u001b[0m\u001b[0mRECORD\u001b[0m\u001b[0;34m)\u001b[0m\u001b[0;34m)\u001b[0m\u001b[0;34m\u001b[0m\u001b[0;34m\u001b[0m\u001b[0m\n\u001b[1;32m     32\u001b[0m   \u001b[0msec\u001b[0m \u001b[0;34m+=\u001b[0m \u001b[0;36m1\u001b[0m\u001b[0;34m\u001b[0m\u001b[0;34m\u001b[0m\u001b[0m\n\u001b[0;32m---> 33\u001b[0;31m   \u001b[0ms\u001b[0m \u001b[0;34m=\u001b[0m \u001b[0moutput\u001b[0m\u001b[0;34m.\u001b[0m\u001b[0meval_js\u001b[0m\u001b[0;34m(\u001b[0m\u001b[0;34m'record(%d)'\u001b[0m \u001b[0;34m%\u001b[0m \u001b[0;34m(\u001b[0m\u001b[0msec\u001b[0m\u001b[0;34m*\u001b[0m\u001b[0;36m1000\u001b[0m\u001b[0;34m)\u001b[0m\u001b[0;34m)\u001b[0m\u001b[0;34m\u001b[0m\u001b[0;34m\u001b[0m\u001b[0m\n\u001b[0m\u001b[1;32m     34\u001b[0m   \u001b[0mprint\u001b[0m\u001b[0;34m(\u001b[0m\u001b[0;34m\"Done Recording !\"\u001b[0m\u001b[0;34m)\u001b[0m\u001b[0;34m\u001b[0m\u001b[0;34m\u001b[0m\u001b[0m\n\u001b[1;32m     35\u001b[0m   \u001b[0mb\u001b[0m \u001b[0;34m=\u001b[0m \u001b[0mb64decode\u001b[0m\u001b[0;34m(\u001b[0m\u001b[0ms\u001b[0m\u001b[0;34m.\u001b[0m\u001b[0msplit\u001b[0m\u001b[0;34m(\u001b[0m\u001b[0;34m','\u001b[0m\u001b[0;34m)\u001b[0m\u001b[0;34m[\u001b[0m\u001b[0;36m1\u001b[0m\u001b[0;34m]\u001b[0m\u001b[0;34m)\u001b[0m\u001b[0;34m\u001b[0m\u001b[0;34m\u001b[0m\u001b[0m\n",
            "\u001b[0;32m/usr/local/lib/python3.11/dist-packages/google/colab/output/_js.py\u001b[0m in \u001b[0;36meval_js\u001b[0;34m(script, ignore_result, timeout_sec)\u001b[0m\n\u001b[1;32m     38\u001b[0m   \u001b[0;32mif\u001b[0m \u001b[0mignore_result\u001b[0m\u001b[0;34m:\u001b[0m\u001b[0;34m\u001b[0m\u001b[0;34m\u001b[0m\u001b[0m\n\u001b[1;32m     39\u001b[0m     \u001b[0;32mreturn\u001b[0m\u001b[0;34m\u001b[0m\u001b[0;34m\u001b[0m\u001b[0m\n\u001b[0;32m---> 40\u001b[0;31m   \u001b[0;32mreturn\u001b[0m \u001b[0m_message\u001b[0m\u001b[0;34m.\u001b[0m\u001b[0mread_reply_from_input\u001b[0m\u001b[0;34m(\u001b[0m\u001b[0mrequest_id\u001b[0m\u001b[0;34m,\u001b[0m \u001b[0mtimeout_sec\u001b[0m\u001b[0;34m)\u001b[0m\u001b[0;34m\u001b[0m\u001b[0;34m\u001b[0m\u001b[0m\n\u001b[0m\u001b[1;32m     41\u001b[0m \u001b[0;34m\u001b[0m\u001b[0m\n\u001b[1;32m     42\u001b[0m \u001b[0;34m\u001b[0m\u001b[0m\n",
            "\u001b[0;32m/usr/local/lib/python3.11/dist-packages/google/colab/_message.py\u001b[0m in \u001b[0;36mread_reply_from_input\u001b[0;34m(message_id, timeout_sec)\u001b[0m\n\u001b[1;32m     94\u001b[0m     \u001b[0mreply\u001b[0m \u001b[0;34m=\u001b[0m \u001b[0m_read_next_input_message\u001b[0m\u001b[0;34m(\u001b[0m\u001b[0;34m)\u001b[0m\u001b[0;34m\u001b[0m\u001b[0;34m\u001b[0m\u001b[0m\n\u001b[1;32m     95\u001b[0m     \u001b[0;32mif\u001b[0m \u001b[0mreply\u001b[0m \u001b[0;34m==\u001b[0m \u001b[0m_NOT_READY\u001b[0m \u001b[0;32mor\u001b[0m \u001b[0;32mnot\u001b[0m \u001b[0misinstance\u001b[0m\u001b[0;34m(\u001b[0m\u001b[0mreply\u001b[0m\u001b[0;34m,\u001b[0m \u001b[0mdict\u001b[0m\u001b[0;34m)\u001b[0m\u001b[0;34m:\u001b[0m\u001b[0;34m\u001b[0m\u001b[0;34m\u001b[0m\u001b[0m\n\u001b[0;32m---> 96\u001b[0;31m       \u001b[0mtime\u001b[0m\u001b[0;34m.\u001b[0m\u001b[0msleep\u001b[0m\u001b[0;34m(\u001b[0m\u001b[0;36m0.025\u001b[0m\u001b[0;34m)\u001b[0m\u001b[0;34m\u001b[0m\u001b[0;34m\u001b[0m\u001b[0m\n\u001b[0m\u001b[1;32m     97\u001b[0m       \u001b[0;32mcontinue\u001b[0m\u001b[0;34m\u001b[0m\u001b[0;34m\u001b[0m\u001b[0m\n\u001b[1;32m     98\u001b[0m     if (\n",
            "\u001b[0;31mKeyboardInterrupt\u001b[0m: "
          ]
        }
      ]
    },
    {
      "cell_type": "markdown",
      "source": [
        "No colab não podemos usar o microfone do computador sem pedir premisao para a pagina web, e para a conversão de voz precisamos mudar em bytes, não e possivel fazer a pesquisa, mas se rodar no computador normal, e so retirar o def record que roda sem nenhum problema."
      ],
      "metadata": {
        "id": "EtesDxlUM6Bj"
      }
    },
    {
      "cell_type": "code",
      "source": [],
      "metadata": {
        "id": "lnmt7f2ZNQAU"
      },
      "execution_count": null,
      "outputs": []
    }
  ]
}