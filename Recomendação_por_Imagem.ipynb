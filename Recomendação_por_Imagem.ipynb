{
  "nbformat": 4,
  "nbformat_minor": 0,
  "metadata": {
    "colab": {
      "provenance": [],
      "authorship_tag": "ABX9TyO6fckifVsNboNqjau0Di9b",
      "include_colab_link": true
    },
    "kernelspec": {
      "name": "python3",
      "display_name": "Python 3"
    },
    "language_info": {
      "name": "python"
    }
  },
  "cells": [
    {
      "cell_type": "markdown",
      "metadata": {
        "id": "view-in-github",
        "colab_type": "text"
      },
      "source": [
        "<a href=\"https://colab.research.google.com/github/Lucas-Pas/BootCampDIO/blob/main/Recomenda%C3%A7%C3%A3o_por_Imagem.ipynb\" target=\"_parent\"><img src=\"https://colab.research.google.com/assets/colab-badge.svg\" alt=\"Open In Colab\"/></a>"
      ]
    },
    {
      "cell_type": "code",
      "execution_count": null,
      "metadata": {
        "id": "vb9Zm3FtIkQ2"
      },
      "outputs": [],
      "source": [
        "!pip install tensorflow opencv-python scikit-learn numpy matplotlib"
      ]
    },
    {
      "cell_type": "code",
      "source": [
        "import os\n",
        "import cv2\n",
        "import numpy as np\n",
        "import matplotlib.pyplot as plt\n",
        "from sklearn.metrics.pairwise import cosine_similarity\n",
        "from tensorflow.keras.applications import ResNet50\n",
        "from tensorflow.keras.applications.resnet50 import preprocess_input\n",
        "from tensorflow.keras.models import Model"
      ],
      "metadata": {
        "id": "EcWrsCIQIlss"
      },
      "execution_count": null,
      "outputs": []
    },
    {
      "cell_type": "code",
      "source": [
        "def load_and_preprocess_image(img_path, target_size=(224, 224)):\n",
        "    \"\"\"\n",
        "    Carrega e pré-processa uma imagem para o formato adequado para o modelo.\n",
        "    \"\"\"\n",
        "    img = cv2.imread(img_path)\n",
        "    img = cv2.resize(img, target_size)  # Redimensiona a imagem\n",
        "    img = cv2.cvtColor(img, cv2.COLOR_BGR2RGB)  # Converte para RGB\n",
        "    img = preprocess_input(img)  # Pré-processamento específico para ResNet50\n",
        "    return img"
      ],
      "metadata": {
        "id": "P11mvwfzIlqe"
      },
      "execution_count": null,
      "outputs": []
    },
    {
      "cell_type": "code",
      "source": [
        "def load_feature_extractor():\n",
        "    \"\"\"\n",
        "    Carrega o modelo ResNet50 pré-treinado para extração de características.\n",
        "    \"\"\"\n",
        "    base_model = ResNet50(weights='imagenet', include_top=False, pooling='avg')\n",
        "    model = Model(inputs=base_model.input, outputs=base_model.output)\n",
        "    return model"
      ],
      "metadata": {
        "id": "NNaHD9v0Iloc"
      },
      "execution_count": null,
      "outputs": []
    },
    {
      "cell_type": "code",
      "source": [
        "def extract_features(model, img_array):\n",
        "    \"\"\"\n",
        "    Extrai características de uma imagem usando o modelo.\n",
        "    \"\"\"\n",
        "    img_array = np.expand_dims(img_array, axis=0)  # Adiciona dimensão do batch\n",
        "    features = model.predict(img_array)\n",
        "    return features.flatten()  # Retorna um vetor unidimensional"
      ],
      "metadata": {
        "id": "Cw3_9djcIlmM"
      },
      "execution_count": null,
      "outputs": []
    },
    {
      "cell_type": "code",
      "source": [
        "from google.colab import files\n",
        "uploaded = files.upload()"
      ],
      "metadata": {
        "id": "5EtxBMP_Iljx"
      },
      "execution_count": null,
      "outputs": []
    },
    {
      "cell_type": "code",
      "source": [
        "def process_dataset(dataset_path):\n",
        "    \"\"\"\n",
        "    Processa todas as imagens no dataset e extrai suas características.\n",
        "    \"\"\"\n",
        "    model = load_feature_extractor()\n",
        "    features_dict = {}\n",
        "\n",
        "    for root, dirs, files in os.walk(dataset_path):\n",
        "        for file in files:\n",
        "            if file.endswith(('.jpg', '.png', '.jpeg')):\n",
        "                img_path = os.path.join(root, file)\n",
        "                img = load_and_preprocess_image(img_path)\n",
        "                features = extract_features(model, img)\n",
        "                features_dict[img_path] = features\n",
        "\n",
        "    return features_dict\n",
        "\n",
        "# Caminho para o dataset (ajuste conforme necessário)\n",
        "dataset_path = \"dataset\"\n",
        "features_dict = process_dataset(dataset_path)"
      ],
      "metadata": {
        "id": "II_RkmbiIlhL"
      },
      "execution_count": null,
      "outputs": []
    },
    {
      "cell_type": "code",
      "source": [
        "np.save(\"features_dict.npy\", features_dict)"
      ],
      "metadata": {
        "id": "LglLwExWIlev"
      },
      "execution_count": null,
      "outputs": []
    },
    {
      "cell_type": "code",
      "source": [
        "features_dict = np.load(\"features_dict.npy\", allow_pickle=True).item()"
      ],
      "metadata": {
        "id": "nz6gCnxzIlcP"
      },
      "execution_count": null,
      "outputs": []
    },
    {
      "cell_type": "code",
      "source": [
        "def recommend_similar_images(query_img_path, features_dict, top_n=5):\n",
        "    \"\"\"\n",
        "    Recomenda as imagens mais semelhantes à imagem de consulta.\n",
        "    \"\"\"\n",
        "    model = load_feature_extractor()\n",
        "    query_img = load_and_preprocess_image(query_img_path)\n",
        "    query_features = extract_features(model, query_img)\n",
        "\n",
        "    similarities = {}\n",
        "    for img_path, features in features_dict.items():\n",
        "        sim = cosine_similarity([query_features], [features])[0][0]\n",
        "        similarities[img_path] = sim\n",
        "\n",
        "    # Ordena as imagens por similaridade\n",
        "    sorted_similarities = sorted(similarities.items(), key=lambda x: x[1], reverse=True)\n",
        "    return sorted_similarities[:top_n]"
      ],
      "metadata": {
        "id": "w_CrvODKIlZC"
      },
      "execution_count": null,
      "outputs": []
    },
    {
      "cell_type": "code",
      "source": [
        "from google.colab import files\n",
        "uploaded = files.upload()\n",
        "\n",
        "# Obter o caminho da imagem de consulta\n",
        "query_img_path = list(uploaded.keys())[0]"
      ],
      "metadata": {
        "id": "BCoLKWxfIlTi"
      },
      "execution_count": null,
      "outputs": []
    },
    {
      "cell_type": "code",
      "source": [
        "recommendations = recommend_similar_images(query_img_path, features_dict, top_n=5)\n",
        "\n",
        "print(\"Imagens recomendadas:\")\n",
        "for img_path, similarity in recommendations:\n",
        "    print(f\"Imagem: {img_path}, Similaridade: {similarity:.4f}\")"
      ],
      "metadata": {
        "id": "1Y2pHqxbI3yD"
      },
      "execution_count": null,
      "outputs": []
    },
    {
      "cell_type": "code",
      "source": [
        "def display_images(query_img_path, recommendations):\n",
        "    \"\"\"\n",
        "    Exibe a imagem de consulta e as imagens recomendadas.\n",
        "    \"\"\"\n",
        "    plt.figure(figsize=(15, 10))\n",
        "\n",
        "    # Exibir a imagem de consulta\n",
        "    plt.subplot(1, len(recommendations) + 1, 1)\n",
        "    query_img = cv2.imread(query_img_path)\n",
        "    query_img = cv2.cvtColor(query_img, cv2.COLOR_BGR2RGB)\n",
        "    plt.imshow(query_img)\n",
        "    plt.title(\"Imagem de Consulta\")\n",
        "    plt.axis(\"off\")\n",
        "\n",
        "    # Exibir as imagens recomendadas\n",
        "    for i, (img_path, similarity) in enumerate(recommendations):\n",
        "        plt.subplot(1, len(recommendations) + 1, i + 2)\n",
        "        img = cv2.imread(img_path)\n",
        "        img = cv2.cvtColor(img, cv2.COLOR_BGR2RGB)\n",
        "        plt.imshow(img)\n",
        "        plt.title(f\"Similaridade: {similarity:.4f}\")\n",
        "        plt.axis(\"off\")\n",
        "\n",
        "    plt.show()\n",
        "\n",
        "# Exibir resultados\n",
        "display_images(query_img_path, recommendations)"
      ],
      "metadata": {
        "id": "sTCRI8YmI5ft"
      },
      "execution_count": null,
      "outputs": []
    }
  ]
}